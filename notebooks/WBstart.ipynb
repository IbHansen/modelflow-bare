{
 "cells": [
  {
   "cell_type": "markdown",
   "id": "2fe371ab",
   "metadata": {},
   "source": [
    "# Welcome to the World Bank Macro Model Warehouse (WBMMW) \n",
    "**Go to the menu bar and click on `Cell(in jupyter)/Runtime(in Colab)` > `Run all`.**"
   ]
  },
  {
   "cell_type": "markdown",
   "id": "8d0146e9",
   "metadata": {},
   "source": [
    "## This is a demo\n",
    "For most countries the models have not been populated. \n",
    "\n",
    "**Use the Pakistan examples**"
   ]
  },
  {
   "cell_type": "code",
   "execution_count": null,
   "id": "bb4ae361",
   "metadata": {},
   "outputs": [],
   "source": [
    "#This is code to manage dependencies if the notebook is executed in the google colab cloud service\n",
    "if 'google.colab' in str(get_ipython()):\n",
    "  import os\n",
    "  os.system('apt -qqq install graphviz')\n",
    "  os.system('pip -qqq install ModelFlowIb ipysheet  --no-dependencies ')"
   ]
  },
  {
   "cell_type": "code",
   "execution_count": null,
   "id": "2c9472fe",
   "metadata": {},
   "outputs": [],
   "source": [
    "from modelclass import model"
   ]
  },
  {
   "cell_type": "code",
   "execution_count": null,
   "id": "b07f6531",
   "metadata": {},
   "outputs": [],
   "source": [
    "model.download_github_repo(colab='google.colab' in str(get_ipython()))\n",
    "# when access to world bank github is there to be replaced by\n",
    "# model.Worldbank_Models()"
   ]
  }
 ],
 "metadata": {
  "hide_input": false,
  "kernelspec": {
   "display_name": "Python 3 (ipykernel)",
   "language": "python",
   "name": "python3"
  },
  "language_info": {
   "codemirror_mode": {
    "name": "ipython",
    "version": 3
   },
   "file_extension": ".py",
   "mimetype": "text/x-python",
   "name": "python",
   "nbconvert_exporter": "python",
   "pygments_lexer": "ipython3",
   "version": "3.10.11"
  },
  "toc": {
   "base_numbering": 1,
   "nav_menu": {},
   "number_sections": true,
   "sideBar": false,
   "skip_h1_title": false,
   "title_cell": "Table of Contents",
   "title_sidebar": "Contents",
   "toc_cell": false,
   "toc_position": {},
   "toc_section_display": true,
   "toc_window_display": false
  },
  "varInspector": {
   "cols": {
    "lenName": 16,
    "lenType": 16,
    "lenVar": 40
   },
   "kernels_config": {
    "python": {
     "delete_cmd_postfix": "",
     "delete_cmd_prefix": "del ",
     "library": "var_list.py",
     "varRefreshCmd": "print(var_dic_list())"
    },
    "r": {
     "delete_cmd_postfix": ") ",
     "delete_cmd_prefix": "rm(",
     "library": "var_list.r",
     "varRefreshCmd": "cat(var_dic_list()) "
    }
   },
   "types_to_exclude": [
    "module",
    "function",
    "builtin_function_or_method",
    "instance",
    "_Feature"
   ],
   "window_display": false
  }
 },
 "nbformat": 4,
 "nbformat_minor": 5
}
